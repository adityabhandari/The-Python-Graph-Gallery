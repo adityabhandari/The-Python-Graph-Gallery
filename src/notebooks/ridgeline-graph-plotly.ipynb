{
 "cells": [
  {
   "cell_type": "markdown",
   "metadata": {},
   "source": [
    "To do so, we will use [Plotly](https://plotly.com/python/)'s amazing Python graphing library. As no function enables us to directly plot a ridgeline, we will make extensive use of plotly.graph_objects library that enables us to add traces to a figure."
   ]
  },
  {
   "cell_type": "code",
   "execution_count": 18,
   "metadata": {},
   "outputs": [],
   "source": [
    "# getting necessary libraries\n",
    "import plotly.graph_objects as go\n",
    "import numpy as np\n",
    "import pandas as pd\n",
    "\n",
    "# getting the data\n",
    "temp = pd.read_csv('https://raw.githubusercontent.com/plotly/datasets/master/2016-weather-data-seattle.csv') # we retrieve the data from plotly's GitHub repository\n",
    "temp['year'] = pd.to_datetime(temp['Date']).dt.year # we store the year in a separate column\n",
    "\n",
    "# Since we do not want to plot 50+ lines, we only select some years to plot\n",
    "year_list = [1950, 1960, 1970, 1980, 1990, 2000, 2010]\n",
    "temp = temp[temp['year'].isin(year_list)]\n",
    "\n",
    "# as we expect to plot histograms-like plots for each year, we group by year and mean temperature and aggregate with 'count' function\n",
    "temp = temp.groupby(['year', 'Mean_TemperatureC']).agg({'Mean_TemperatureC': 'count'}).rename(columns={'Mean_TemperatureC': 'count'}).reset_index()"
   ]
  },
  {
   "cell_type": "code",
   "execution_count": 19,
   "metadata": {},
   "outputs": [
    {
     "data": {
      "text/html": [
       "<div>\n",
       "<style scoped>\n",
       "    .dataframe tbody tr th:only-of-type {\n",
       "        vertical-align: middle;\n",
       "    }\n",
       "\n",
       "    .dataframe tbody tr th {\n",
       "        vertical-align: top;\n",
       "    }\n",
       "\n",
       "    .dataframe thead th {\n",
       "        text-align: right;\n",
       "    }\n",
       "</style>\n",
       "<table border=\"1\" class=\"dataframe\">\n",
       "  <thead>\n",
       "    <tr style=\"text-align: right;\">\n",
       "      <th></th>\n",
       "      <th>year</th>\n",
       "      <th>Mean_TemperatureC</th>\n",
       "      <th>count</th>\n",
       "    </tr>\n",
       "  </thead>\n",
       "  <tbody>\n",
       "    <tr>\n",
       "      <th>0</th>\n",
       "      <td>1950</td>\n",
       "      <td>-12.0</td>\n",
       "      <td>1</td>\n",
       "    </tr>\n",
       "    <tr>\n",
       "      <th>1</th>\n",
       "      <td>1950</td>\n",
       "      <td>-11.0</td>\n",
       "      <td>1</td>\n",
       "    </tr>\n",
       "    <tr>\n",
       "      <th>2</th>\n",
       "      <td>1950</td>\n",
       "      <td>-10.0</td>\n",
       "      <td>2</td>\n",
       "    </tr>\n",
       "    <tr>\n",
       "      <th>3</th>\n",
       "      <td>1950</td>\n",
       "      <td>-9.0</td>\n",
       "      <td>6</td>\n",
       "    </tr>\n",
       "    <tr>\n",
       "      <th>4</th>\n",
       "      <td>1950</td>\n",
       "      <td>-8.0</td>\n",
       "      <td>4</td>\n",
       "    </tr>\n",
       "    <tr>\n",
       "      <th>...</th>\n",
       "      <td>...</td>\n",
       "      <td>...</td>\n",
       "      <td>...</td>\n",
       "    </tr>\n",
       "    <tr>\n",
       "      <th>199</th>\n",
       "      <td>2010</td>\n",
       "      <td>22.0</td>\n",
       "      <td>4</td>\n",
       "    </tr>\n",
       "    <tr>\n",
       "      <th>200</th>\n",
       "      <td>2010</td>\n",
       "      <td>23.0</td>\n",
       "      <td>3</td>\n",
       "    </tr>\n",
       "    <tr>\n",
       "      <th>201</th>\n",
       "      <td>2010</td>\n",
       "      <td>24.0</td>\n",
       "      <td>2</td>\n",
       "    </tr>\n",
       "    <tr>\n",
       "      <th>202</th>\n",
       "      <td>2010</td>\n",
       "      <td>26.0</td>\n",
       "      <td>2</td>\n",
       "    </tr>\n",
       "    <tr>\n",
       "      <th>203</th>\n",
       "      <td>2010</td>\n",
       "      <td>27.0</td>\n",
       "      <td>2</td>\n",
       "    </tr>\n",
       "  </tbody>\n",
       "</table>\n",
       "<p>204 rows × 3 columns</p>\n",
       "</div>"
      ],
      "text/plain": [
       "     year  Mean_TemperatureC  count\n",
       "0    1950              -12.0      1\n",
       "1    1950              -11.0      1\n",
       "2    1950              -10.0      2\n",
       "3    1950               -9.0      6\n",
       "4    1950               -8.0      4\n",
       "..    ...                ...    ...\n",
       "199  2010               22.0      4\n",
       "200  2010               23.0      3\n",
       "201  2010               24.0      2\n",
       "202  2010               26.0      2\n",
       "203  2010               27.0      2\n",
       "\n",
       "[204 rows x 3 columns]"
      ]
     },
     "execution_count": 19,
     "metadata": {},
     "output_type": "execute_result"
    }
   ],
   "source": [
    "# you can have a look at what the data looks like at this point\n",
    "temp"
   ]
  },
  {
   "cell_type": "code",
   "execution_count": 20,
   "metadata": {},
   "outputs": [
    {
     "data": {
      "application/vnd.plotly.v1+json": {
       "config": {
        "plotlyServerURL": "https://plot.ly"
       },
       "data": [
        {
         "line": {
          "color": "white"
         },
         "mode": "lines",
         "type": "scatter",
         "x": [
          -20,
          40
         ],
         "y": [
          7,
          7
         ]
        },
        {
         "fill": "tonexty",
         "name": "1950",
         "type": "scatter",
         "x": [
          -12,
          -11,
          -10,
          -9,
          -8,
          -7,
          -6,
          -4,
          -3,
          -2,
          -1,
          0,
          1,
          2,
          3,
          4,
          5,
          6,
          7,
          8,
          9,
          10,
          11,
          12,
          13,
          14,
          15,
          16,
          17,
          18,
          19,
          20,
          21
         ],
         "y": [
          7.4,
          7.4,
          7.424390243902439,
          7.521951219512196,
          7.4731707317073175,
          7.424390243902439,
          7.4,
          7.424390243902439,
          7.4,
          7.4487804878048784,
          7.4,
          7.4731707317073175,
          7.521951219512196,
          7.521951219512196,
          7.595121951219513,
          7.839024390243903,
          7.66829268292683,
          7.863414634146342,
          8.107317073170732,
          8.4,
          7.9609756097560975,
          7.814634146341464,
          7.643902439024391,
          7.765853658536586,
          7.717073170731708,
          7.814634146341464,
          7.546341463414635,
          7.839024390243903,
          7.839024390243903,
          7.863414634146342,
          7.66829268292683,
          7.595121951219513,
          7.521951219512196
         ]
        },
        {
         "line": {
          "color": "white"
         },
         "mode": "lines",
         "type": "scatter",
         "x": [
          -20,
          40
         ],
         "y": [
          6,
          6
         ]
        },
        {
         "fill": "tonexty",
         "name": "1960",
         "type": "scatter",
         "x": [
          -2,
          -1,
          0,
          1,
          2,
          3,
          4,
          5,
          6,
          7,
          8,
          9,
          10,
          11,
          12,
          13,
          14,
          15,
          16,
          17,
          18,
          19,
          20,
          21,
          22,
          23,
          24,
          28
         ],
         "y": [
          6.4,
          6.529032258064516,
          6.529032258064516,
          6.819354838709677,
          6.658064516129032,
          7.012903225806452,
          6.948387096774194,
          6.496774193548387,
          7.045161290322581,
          7.045161290322581,
          7.4,
          7.141935483870968,
          6.754838709677419,
          7.206451612903226,
          7.109677419354839,
          7.174193548387097,
          7.206451612903226,
          6.690322580645161,
          6.851612903225806,
          6.787096774193548,
          6.819354838709677,
          6.72258064516129,
          6.496774193548387,
          6.529032258064516,
          6.4,
          6.464516129032258,
          6.432258064516129,
          6.432258064516129
         ]
        },
        {
         "line": {
          "color": "white"
         },
         "mode": "lines",
         "type": "scatter",
         "x": [
          -20,
          40
         ],
         "y": [
          5,
          5
         ]
        },
        {
         "fill": "tonexty",
         "name": "1970",
         "type": "scatter",
         "x": [
          -1,
          0,
          1,
          2,
          3,
          4,
          5,
          6,
          7,
          8,
          9,
          10,
          11,
          12,
          13,
          14,
          15,
          16,
          17,
          18,
          19,
          20,
          21,
          22,
          23,
          24,
          26
         ],
         "y": [
          5.4,
          5.496774193548387,
          5.496774193548387,
          5.72258064516129,
          5.819354838709677,
          6.045161290322581,
          5.496774193548387,
          5.851612903225806,
          6.335483870967742,
          6.367741935483871,
          6.4,
          5.72258064516129,
          6.270967741935484,
          6.045161290322581,
          5.980645161290323,
          6.07741935483871,
          5.464516129032258,
          5.980645161290323,
          6.045161290322581,
          6.012903225806452,
          5.690322580645161,
          5.658064516129032,
          5.529032258064516,
          5.561290322580645,
          5.4,
          5.432258064516129,
          5.4
         ]
        },
        {
         "line": {
          "color": "white"
         },
         "mode": "lines",
         "type": "scatter",
         "x": [
          -20,
          40
         ],
         "y": [
          4,
          4
         ]
        },
        {
         "fill": "tonexty",
         "name": "1980",
         "type": "scatter",
         "x": [
          -4,
          -3,
          -2,
          -1,
          0,
          1,
          2,
          3,
          4,
          5,
          6,
          7,
          8,
          9,
          10,
          11,
          12,
          13,
          14,
          15,
          16,
          17,
          18,
          19,
          20,
          21,
          22
         ],
         "y": [
          4.429411764705883,
          4.429411764705883,
          4.4,
          4.458823529411765,
          4.4,
          4.429411764705883,
          4.6647058823529415,
          4.605882352941177,
          4.958823529411765,
          4.4,
          4.811764705882354,
          5.076470588235295,
          5.076470588235295,
          4.752941176470588,
          4.988235294117647,
          5.311764705882354,
          5.105882352941177,
          4.929411764705883,
          5.4,
          4.488235294117647,
          5.1647058823529415,
          5.0470588235294125,
          4.782352941176471,
          4.5470588235294125,
          4.458823529411765,
          4.458823529411765,
          4.4
         ]
        },
        {
         "line": {
          "color": "white"
         },
         "mode": "lines",
         "type": "scatter",
         "x": [
          -20,
          40
         ],
         "y": [
          3,
          3
         ]
        },
        {
         "fill": "tonexty",
         "name": "1990",
         "type": "scatter",
         "x": [
          -9,
          -6,
          -5,
          -4,
          -3,
          -2,
          -1,
          0,
          1,
          2,
          3,
          4,
          5,
          6,
          7,
          8,
          9,
          10,
          11,
          12,
          13,
          14,
          15,
          16,
          17,
          18,
          19,
          20,
          21,
          22,
          23,
          24,
          25,
          26,
          27
         ],
         "y": [
          3.457142857142857,
          3.4285714285714284,
          3.4,
          3.4,
          3.457142857142857,
          3.4285714285714284,
          3.4285714285714284,
          3.4285714285714284,
          3.457142857142857,
          3.6,
          3.571428571428571,
          3.8285714285714283,
          3.4857142857142858,
          4.0285714285714285,
          4,
          3.857142857142857,
          4.114285714285715,
          4.085714285714286,
          4.4,
          4.0285714285714285,
          3.657142857142857,
          3.8857142857142857,
          3.457142857142857,
          3.8,
          4.057142857142857,
          4.057142857142857,
          3.657142857142857,
          3.6857142857142855,
          3.571428571428571,
          3.4857142857142858,
          3.4857142857142858,
          3.5428571428571427,
          3.4,
          3.4,
          3.4
         ]
        },
        {
         "line": {
          "color": "white"
         },
         "mode": "lines",
         "type": "scatter",
         "x": [
          -20,
          40
         ],
         "y": [
          2,
          2
         ]
        },
        {
         "fill": "tonexty",
         "name": "2000",
         "type": "scatter",
         "x": [
          0,
          1,
          2,
          3,
          4,
          5,
          6,
          7,
          8,
          9,
          10,
          11,
          12,
          13,
          14,
          15,
          16,
          17,
          18,
          19,
          20,
          21,
          22,
          23,
          24
         ],
         "y": [
          2.4416666666666664,
          2.4833333333333334,
          2.775,
          2.9,
          3.4,
          2.4833333333333334,
          3.1916666666666664,
          3.1916666666666664,
          2.8583333333333334,
          2.9416666666666664,
          2.9833333333333334,
          2.8583333333333334,
          2.9416666666666664,
          2.8583333333333334,
          3.1916666666666664,
          2.5666666666666664,
          3.0666666666666664,
          3.1083333333333334,
          2.8166666666666664,
          2.65,
          2.775,
          2.4833333333333334,
          2.4,
          2.4416666666666664,
          2.4
         ]
        },
        {
         "line": {
          "color": "white"
         },
         "mode": "lines",
         "type": "scatter",
         "x": [
          -20,
          40
         ],
         "y": [
          1,
          1
         ]
        },
        {
         "fill": "tonexty",
         "name": "2010",
         "type": "scatter",
         "x": [
          -6,
          -3,
          -2,
          -1,
          1,
          2,
          3,
          4,
          5,
          6,
          7,
          8,
          9,
          10,
          11,
          12,
          13,
          14,
          15,
          16,
          17,
          18,
          19,
          21,
          22,
          23,
          24,
          26,
          27
         ],
         "y": [
          1.4285714285714284,
          1.4,
          1.4,
          1.4,
          1.4285714285714284,
          1.4,
          1.4857142857142858,
          1.5428571428571427,
          1.4571428571428573,
          2,
          2.4,
          2.1142857142857143,
          2.342857142857143,
          2.0285714285714285,
          2.257142857142857,
          1.9714285714285715,
          1.9714285714285715,
          2.057142857142857,
          1.7428571428571429,
          2.1714285714285713,
          2.1714285714285713,
          1.6857142857142855,
          1.6,
          1.5142857142857142,
          1.4857142857142858,
          1.4571428571428573,
          1.4285714285714284,
          1.4285714285714284,
          1.4285714285714284
         ]
        }
       ],
       "layout": {
        "annotations": [
         {
          "showarrow": false,
          "text": "1950",
          "x": -20,
          "y": 7,
          "yshift": 10
         },
         {
          "showarrow": false,
          "text": "1960",
          "x": -20,
          "y": 6,
          "yshift": 10
         },
         {
          "showarrow": false,
          "text": "1970",
          "x": -20,
          "y": 5,
          "yshift": 10
         },
         {
          "showarrow": false,
          "text": "1980",
          "x": -20,
          "y": 4,
          "yshift": 10
         },
         {
          "showarrow": false,
          "text": "1990",
          "x": -20,
          "y": 3,
          "yshift": 10
         },
         {
          "showarrow": false,
          "text": "2000",
          "x": -20,
          "y": 2,
          "yshift": 10
         },
         {
          "showarrow": false,
          "text": "2010",
          "x": -20,
          "y": 1,
          "yshift": 10
         }
        ],
        "autosize": true,
        "showlegend": false,
        "template": {
         "data": {
          "bar": [
           {
            "error_x": {
             "color": "#2a3f5f"
            },
            "error_y": {
             "color": "#2a3f5f"
            },
            "marker": {
             "line": {
              "color": "#E5ECF6",
              "width": 0.5
             }
            },
            "type": "bar"
           }
          ],
          "barpolar": [
           {
            "marker": {
             "line": {
              "color": "#E5ECF6",
              "width": 0.5
             }
            },
            "type": "barpolar"
           }
          ],
          "carpet": [
           {
            "aaxis": {
             "endlinecolor": "#2a3f5f",
             "gridcolor": "white",
             "linecolor": "white",
             "minorgridcolor": "white",
             "startlinecolor": "#2a3f5f"
            },
            "baxis": {
             "endlinecolor": "#2a3f5f",
             "gridcolor": "white",
             "linecolor": "white",
             "minorgridcolor": "white",
             "startlinecolor": "#2a3f5f"
            },
            "type": "carpet"
           }
          ],
          "choropleth": [
           {
            "colorbar": {
             "outlinewidth": 0,
             "ticks": ""
            },
            "type": "choropleth"
           }
          ],
          "contour": [
           {
            "colorbar": {
             "outlinewidth": 0,
             "ticks": ""
            },
            "colorscale": [
             [
              0,
              "#0d0887"
             ],
             [
              0.1111111111111111,
              "#46039f"
             ],
             [
              0.2222222222222222,
              "#7201a8"
             ],
             [
              0.3333333333333333,
              "#9c179e"
             ],
             [
              0.4444444444444444,
              "#bd3786"
             ],
             [
              0.5555555555555556,
              "#d8576b"
             ],
             [
              0.6666666666666666,
              "#ed7953"
             ],
             [
              0.7777777777777778,
              "#fb9f3a"
             ],
             [
              0.8888888888888888,
              "#fdca26"
             ],
             [
              1,
              "#f0f921"
             ]
            ],
            "type": "contour"
           }
          ],
          "contourcarpet": [
           {
            "colorbar": {
             "outlinewidth": 0,
             "ticks": ""
            },
            "type": "contourcarpet"
           }
          ],
          "heatmap": [
           {
            "colorbar": {
             "outlinewidth": 0,
             "ticks": ""
            },
            "colorscale": [
             [
              0,
              "#0d0887"
             ],
             [
              0.1111111111111111,
              "#46039f"
             ],
             [
              0.2222222222222222,
              "#7201a8"
             ],
             [
              0.3333333333333333,
              "#9c179e"
             ],
             [
              0.4444444444444444,
              "#bd3786"
             ],
             [
              0.5555555555555556,
              "#d8576b"
             ],
             [
              0.6666666666666666,
              "#ed7953"
             ],
             [
              0.7777777777777778,
              "#fb9f3a"
             ],
             [
              0.8888888888888888,
              "#fdca26"
             ],
             [
              1,
              "#f0f921"
             ]
            ],
            "type": "heatmap"
           }
          ],
          "heatmapgl": [
           {
            "colorbar": {
             "outlinewidth": 0,
             "ticks": ""
            },
            "colorscale": [
             [
              0,
              "#0d0887"
             ],
             [
              0.1111111111111111,
              "#46039f"
             ],
             [
              0.2222222222222222,
              "#7201a8"
             ],
             [
              0.3333333333333333,
              "#9c179e"
             ],
             [
              0.4444444444444444,
              "#bd3786"
             ],
             [
              0.5555555555555556,
              "#d8576b"
             ],
             [
              0.6666666666666666,
              "#ed7953"
             ],
             [
              0.7777777777777778,
              "#fb9f3a"
             ],
             [
              0.8888888888888888,
              "#fdca26"
             ],
             [
              1,
              "#f0f921"
             ]
            ],
            "type": "heatmapgl"
           }
          ],
          "histogram": [
           {
            "marker": {
             "colorbar": {
              "outlinewidth": 0,
              "ticks": ""
             }
            },
            "type": "histogram"
           }
          ],
          "histogram2d": [
           {
            "colorbar": {
             "outlinewidth": 0,
             "ticks": ""
            },
            "colorscale": [
             [
              0,
              "#0d0887"
             ],
             [
              0.1111111111111111,
              "#46039f"
             ],
             [
              0.2222222222222222,
              "#7201a8"
             ],
             [
              0.3333333333333333,
              "#9c179e"
             ],
             [
              0.4444444444444444,
              "#bd3786"
             ],
             [
              0.5555555555555556,
              "#d8576b"
             ],
             [
              0.6666666666666666,
              "#ed7953"
             ],
             [
              0.7777777777777778,
              "#fb9f3a"
             ],
             [
              0.8888888888888888,
              "#fdca26"
             ],
             [
              1,
              "#f0f921"
             ]
            ],
            "type": "histogram2d"
           }
          ],
          "histogram2dcontour": [
           {
            "colorbar": {
             "outlinewidth": 0,
             "ticks": ""
            },
            "colorscale": [
             [
              0,
              "#0d0887"
             ],
             [
              0.1111111111111111,
              "#46039f"
             ],
             [
              0.2222222222222222,
              "#7201a8"
             ],
             [
              0.3333333333333333,
              "#9c179e"
             ],
             [
              0.4444444444444444,
              "#bd3786"
             ],
             [
              0.5555555555555556,
              "#d8576b"
             ],
             [
              0.6666666666666666,
              "#ed7953"
             ],
             [
              0.7777777777777778,
              "#fb9f3a"
             ],
             [
              0.8888888888888888,
              "#fdca26"
             ],
             [
              1,
              "#f0f921"
             ]
            ],
            "type": "histogram2dcontour"
           }
          ],
          "mesh3d": [
           {
            "colorbar": {
             "outlinewidth": 0,
             "ticks": ""
            },
            "type": "mesh3d"
           }
          ],
          "parcoords": [
           {
            "line": {
             "colorbar": {
              "outlinewidth": 0,
              "ticks": ""
             }
            },
            "type": "parcoords"
           }
          ],
          "pie": [
           {
            "automargin": true,
            "type": "pie"
           }
          ],
          "scatter": [
           {
            "marker": {
             "colorbar": {
              "outlinewidth": 0,
              "ticks": ""
             }
            },
            "type": "scatter"
           }
          ],
          "scatter3d": [
           {
            "line": {
             "colorbar": {
              "outlinewidth": 0,
              "ticks": ""
             }
            },
            "marker": {
             "colorbar": {
              "outlinewidth": 0,
              "ticks": ""
             }
            },
            "type": "scatter3d"
           }
          ],
          "scattercarpet": [
           {
            "marker": {
             "colorbar": {
              "outlinewidth": 0,
              "ticks": ""
             }
            },
            "type": "scattercarpet"
           }
          ],
          "scattergeo": [
           {
            "marker": {
             "colorbar": {
              "outlinewidth": 0,
              "ticks": ""
             }
            },
            "type": "scattergeo"
           }
          ],
          "scattergl": [
           {
            "marker": {
             "colorbar": {
              "outlinewidth": 0,
              "ticks": ""
             }
            },
            "type": "scattergl"
           }
          ],
          "scattermapbox": [
           {
            "marker": {
             "colorbar": {
              "outlinewidth": 0,
              "ticks": ""
             }
            },
            "type": "scattermapbox"
           }
          ],
          "scatterpolar": [
           {
            "marker": {
             "colorbar": {
              "outlinewidth": 0,
              "ticks": ""
             }
            },
            "type": "scatterpolar"
           }
          ],
          "scatterpolargl": [
           {
            "marker": {
             "colorbar": {
              "outlinewidth": 0,
              "ticks": ""
             }
            },
            "type": "scatterpolargl"
           }
          ],
          "scatterternary": [
           {
            "marker": {
             "colorbar": {
              "outlinewidth": 0,
              "ticks": ""
             }
            },
            "type": "scatterternary"
           }
          ],
          "surface": [
           {
            "colorbar": {
             "outlinewidth": 0,
             "ticks": ""
            },
            "colorscale": [
             [
              0,
              "#0d0887"
             ],
             [
              0.1111111111111111,
              "#46039f"
             ],
             [
              0.2222222222222222,
              "#7201a8"
             ],
             [
              0.3333333333333333,
              "#9c179e"
             ],
             [
              0.4444444444444444,
              "#bd3786"
             ],
             [
              0.5555555555555556,
              "#d8576b"
             ],
             [
              0.6666666666666666,
              "#ed7953"
             ],
             [
              0.7777777777777778,
              "#fb9f3a"
             ],
             [
              0.8888888888888888,
              "#fdca26"
             ],
             [
              1,
              "#f0f921"
             ]
            ],
            "type": "surface"
           }
          ],
          "table": [
           {
            "cells": {
             "fill": {
              "color": "#EBF0F8"
             },
             "line": {
              "color": "white"
             }
            },
            "header": {
             "fill": {
              "color": "#C8D4E3"
             },
             "line": {
              "color": "white"
             }
            },
            "type": "table"
           }
          ]
         },
         "layout": {
          "annotationdefaults": {
           "arrowcolor": "#2a3f5f",
           "arrowhead": 0,
           "arrowwidth": 1
          },
          "coloraxis": {
           "colorbar": {
            "outlinewidth": 0,
            "ticks": ""
           }
          },
          "colorscale": {
           "diverging": [
            [
             0,
             "#8e0152"
            ],
            [
             0.1,
             "#c51b7d"
            ],
            [
             0.2,
             "#de77ae"
            ],
            [
             0.3,
             "#f1b6da"
            ],
            [
             0.4,
             "#fde0ef"
            ],
            [
             0.5,
             "#f7f7f7"
            ],
            [
             0.6,
             "#e6f5d0"
            ],
            [
             0.7,
             "#b8e186"
            ],
            [
             0.8,
             "#7fbc41"
            ],
            [
             0.9,
             "#4d9221"
            ],
            [
             1,
             "#276419"
            ]
           ],
           "sequential": [
            [
             0,
             "#0d0887"
            ],
            [
             0.1111111111111111,
             "#46039f"
            ],
            [
             0.2222222222222222,
             "#7201a8"
            ],
            [
             0.3333333333333333,
             "#9c179e"
            ],
            [
             0.4444444444444444,
             "#bd3786"
            ],
            [
             0.5555555555555556,
             "#d8576b"
            ],
            [
             0.6666666666666666,
             "#ed7953"
            ],
            [
             0.7777777777777778,
             "#fb9f3a"
            ],
            [
             0.8888888888888888,
             "#fdca26"
            ],
            [
             1,
             "#f0f921"
            ]
           ],
           "sequentialminus": [
            [
             0,
             "#0d0887"
            ],
            [
             0.1111111111111111,
             "#46039f"
            ],
            [
             0.2222222222222222,
             "#7201a8"
            ],
            [
             0.3333333333333333,
             "#9c179e"
            ],
            [
             0.4444444444444444,
             "#bd3786"
            ],
            [
             0.5555555555555556,
             "#d8576b"
            ],
            [
             0.6666666666666666,
             "#ed7953"
            ],
            [
             0.7777777777777778,
             "#fb9f3a"
            ],
            [
             0.8888888888888888,
             "#fdca26"
            ],
            [
             1,
             "#f0f921"
            ]
           ]
          },
          "colorway": [
           "#636efa",
           "#EF553B",
           "#00cc96",
           "#ab63fa",
           "#FFA15A",
           "#19d3f3",
           "#FF6692",
           "#B6E880",
           "#FF97FF",
           "#FECB52"
          ],
          "font": {
           "color": "#2a3f5f"
          },
          "geo": {
           "bgcolor": "white",
           "lakecolor": "white",
           "landcolor": "#E5ECF6",
           "showlakes": true,
           "showland": true,
           "subunitcolor": "white"
          },
          "hoverlabel": {
           "align": "left"
          },
          "hovermode": "closest",
          "mapbox": {
           "style": "light"
          },
          "paper_bgcolor": "white",
          "plot_bgcolor": "#E5ECF6",
          "polar": {
           "angularaxis": {
            "gridcolor": "white",
            "linecolor": "white",
            "ticks": ""
           },
           "bgcolor": "#E5ECF6",
           "radialaxis": {
            "gridcolor": "white",
            "linecolor": "white",
            "ticks": ""
           }
          },
          "scene": {
           "xaxis": {
            "backgroundcolor": "#E5ECF6",
            "gridcolor": "white",
            "gridwidth": 2,
            "linecolor": "white",
            "showbackground": true,
            "ticks": "",
            "zerolinecolor": "white"
           },
           "yaxis": {
            "backgroundcolor": "#E5ECF6",
            "gridcolor": "white",
            "gridwidth": 2,
            "linecolor": "white",
            "showbackground": true,
            "ticks": "",
            "zerolinecolor": "white"
           },
           "zaxis": {
            "backgroundcolor": "#E5ECF6",
            "gridcolor": "white",
            "gridwidth": 2,
            "linecolor": "white",
            "showbackground": true,
            "ticks": "",
            "zerolinecolor": "white"
           }
          },
          "shapedefaults": {
           "line": {
            "color": "#2a3f5f"
           }
          },
          "ternary": {
           "aaxis": {
            "gridcolor": "white",
            "linecolor": "white",
            "ticks": ""
           },
           "baxis": {
            "gridcolor": "white",
            "linecolor": "white",
            "ticks": ""
           },
           "bgcolor": "#E5ECF6",
           "caxis": {
            "gridcolor": "white",
            "linecolor": "white",
            "ticks": ""
           }
          },
          "title": {
           "x": 0.05
          },
          "xaxis": {
           "automargin": true,
           "gridcolor": "white",
           "linecolor": "white",
           "ticks": "",
           "title": {
            "standoff": 15
           },
           "zerolinecolor": "white",
           "zerolinewidth": 2
          },
          "yaxis": {
           "automargin": true,
           "gridcolor": "white",
           "linecolor": "white",
           "ticks": "",
           "title": {
            "standoff": 15
           },
           "zerolinecolor": "white",
           "zerolinewidth": 2
          }
         }
        },
        "title": {
         "text": "Average temperature from 1950 until 2010 in Seattle"
        },
        "xaxis": {
         "autorange": true,
         "range": [
          -21.694915254237287,
          40
         ],
         "title": {
          "text": "Temperature in degree Celsius"
         },
         "type": "linear"
        },
        "yaxis": {
         "autorange": true,
         "range": [
          0.5888888888888889,
          8.811111111111112
         ],
         "showticklabels": false,
         "type": "linear"
        }
       }
      },
      "image/png": "[encoded data removed]"
     },
     "metadata": {},
     "output_type": "display_data"
    }
   ],
   "source": [
    "# the idea behind this ridgeline plot with Plotly is to add traces manually, each trace corresponding to a particular year's temperature distribution\n",
    "# thus, we are to store each year's data (temperatures and their respective count) in seperate arrays or pd.series that we store in a dictionnary to retrieve them easily\n",
    "array_dict = {} # instantiating an empty dictionnary\n",
    "for year in year_list:\n",
    "    array_dict[f'x_{year}'] = temp[temp['year']==year]['Mean_TemperatureC'] # storing the temperature data for each year\n",
    "    array_dict[f'y_{year}'] = temp[temp['year']==year]['count'] # storing the temperature count for each year\n",
    "    array_dict[f'y_{year}'] = (array_dict[f'y_{year}'] - array_dict[f'y_{year}'].min()) \\\n",
    "                                / (array_dict[f'y_{year}'].max() - array_dict[f'y_{year}'].min()) # we normalize the array (min max normalization)\n",
    "\n",
    "# once all of this is done, we can create a plotly.graph_objects.Figure and add traces with fig.add_trace() method\n",
    "# since we have stored the temperatures and their respective count for each year, we can plot scatterplots (go.Scatter)\n",
    "# we thus iterate over year_list and create a 'blank line' that is placed at y = index, then the corresponding temperature count line\n",
    "fig = go.Figure()\n",
    "for index, year in enumerate(year_list):\n",
    "    fig.add_trace(go.Scatter(\n",
    "                            x=[-20, 40], y=np.full(2, len(year_list)-index),\n",
    "                            mode='lines',\n",
    "                            line_color='white'))\n",
    "    \n",
    "    fig.add_trace(go.Scatter(\n",
    "                            x=array_dict[f'x_{year}'],\n",
    "                            y=array_dict[f'y_{year}'] + (len(year_list)-index) + 0.4,\n",
    "                            fill='tonexty',\n",
    "                            name=f'{year}'))\n",
    "    \n",
    "    # plotly.graph_objects' way of adding text to a figure\n",
    "    fig.add_annotation(\n",
    "                        x=-20,\n",
    "                        y=len(year_list)-index,\n",
    "                        text=f'{year}',\n",
    "                        showarrow=False,\n",
    "                        yshift=10)\n",
    "\n",
    "# here you can modify the figure and the legend titles\n",
    "fig.update_layout(\n",
    "                title='Average temperature from 1950 until 2010 in Seattle',\n",
    "                showlegend=False,\n",
    "                xaxis=dict(title='Temperature in degree Celsius'),\n",
    "                yaxis=dict(showticklabels=False) # that way you hide the y axis ticks labels\n",
    "                )\n",
    "\n",
    "fig.show()"
   ]
  },
  {
   "cell_type": "markdown",
   "metadata": {},
   "source": [
    "Note that you can save this chart to a standalone file thanks to the `write.html()` function. It is then possible to render it in any html document using an `<iframe>`"
   ]
  },
  {
   "cell_type": "code",
   "execution_count": 21,
   "metadata": {},
   "outputs": [],
   "source": [
    "# If you need to save this file as a standalong html file:\n",
    "fig.write_html(\"../../static/interactiveCharts/ridgeline-graph-plotly.html\")"
   ]
  },
  {
   "cell_type": "code",
   "execution_count": 22,
   "metadata": {},
   "outputs": [
    {
     "data": {
      "text/html": [
       "<iframe src=\"../../interactiveCharts/ridgeline-graph-plotly.html\" width=\"800\" height=\"600\" title=\"ridgeline chart with plotly\" style=\"border:none\"></iframe>\n"
      ],
      "text/plain": [
       "<IPython.core.display.HTML object>"
      ]
     },
     "metadata": {},
     "output_type": "display_data"
    }
   ],
   "source": [
    "%%html\n",
    "<iframe src=\"../../interactiveCharts/ridgeline-graph-plotly.html\" width=\"800\" height=\"600\" title=\"ridgeline chart with plotly\" style=\"border:none\"></iframe>"
   ]
  }
 ],
 "metadata": {
  "chartType": "ridgeline",
  "description": "A Ridgelineplot (formerly called a Joyplot) allows to study the distribution of a numeric variable for several groups. Throughout the following example, we will consider average temperatures in Seattle between 1950 and 2010 and we will show how to visualize their distribution.",
  "family": "distribution",
  "kernelspec": {
   "display_name": "Python 3 (ipykernel)",
   "language": "python",
   "name": "python3"
  },
  "keywords": "python, chart, plot, plotly, ridgeline",
  "language_info": {
   "codemirror_mode": {
    "name": "ipython",
    "version": 3
   },
   "file_extension": ".py",
   "mimetype": "text/x-python",
   "name": "python",
   "nbconvert_exporter": "python",
   "pygments_lexer": "ipython3",
   "version": "3.9.13"
  },
  "seoDescription": "How to draw a ridgeline graph with Plotly",
  "slug": "ridgeline-graph-plotly",
  "title": "Drawing a ridgeline graph with Plotly"
 },
 "nbformat": 4,
 "nbformat_minor": 4
}
