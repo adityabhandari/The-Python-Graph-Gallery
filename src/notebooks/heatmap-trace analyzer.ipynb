{
 "cells": [
  {
   "cell_type": "markdown",
   "id": "538d0b72",
   "metadata": {},
   "source": [
    "## Data and Libraries"
   ]
  },
  {
   "cell_type": "code",
   "execution_count": 2,
   "id": "a2ef1ee9",
   "metadata": {},
   "outputs": [],
   "source": [
    "import matplotlib.colors as mc # For the legend\n",
    "import matplotlib.pyplot as plt\n",
    "import numpy as np\n",
    "import pandas as pd\n",
    "\n",
    "# Another utility for the legend\n",
    "from matplotlib.cm import ScalarMappable"
   ]
  },
  {
   "cell_type": "code",
   "execution_count": 48,
   "id": "6b136383-be2a-474a-b672-60aee44bd608",
   "metadata": {},
   "outputs": [],
   "source": [
    "#o11y stuff\n",
    "\n",
    "\n",
    "light = {'name': 'light', 'back':\"#ffffff\", 'contenDefault': \"#4D4D4D\"}\n",
    "dark = {'name': 'dark', 'back':\"#1A1C20\", 'contenDefault': \"#B5B5B5\"}\n",
    "\n",
    "\n",
    "theme = light\n",
    "\n",
    "\n",
    "def getInverse(theme):\n",
    "    if theme == light:\n",
    "        return dark\n",
    "    else:\n",
    "        return light\n",
    "\n",
    "    \n",
    "full_colors = ['Accent', 'Accent_r', 'Blues', 'Blues_r', 'BrBG', 'BrBG_r', 'BuGn', 'BuGn_r', 'BuPu', 'BuPu_r', 'CMRmap', 'CMRmap_r', 'Dark2', 'Dark2_r', 'GnBu', 'GnBu_r', 'Greens', 'Greens_r', 'Greys', 'Greys_r', 'OrRd', 'OrRd_r', 'Oranges', 'Oranges_r', 'PRGn', 'PRGn_r', 'Paired', 'Paired_r', 'Pastel1', 'Pastel1_r', 'Pastel2', 'Pastel2_r', 'PiYG', 'PiYG_r', 'PuBu', 'PuBuGn', 'PuBuGn_r', 'PuBu_r', 'PuOr', 'PuOr_r', 'PuRd', 'PuRd_r', 'Purples', 'Purples_r', 'RdBu', 'RdBu_r', 'RdGy', 'RdGy_r', 'RdPu', 'RdPu_r', 'RdYlBu', 'RdYlBu_r', 'RdYlGn', 'RdYlGn_r', 'Reds', 'Reds_r', 'Set1', 'Set1_r', 'Set2', 'Set2_r', 'Set3', 'Set3_r', 'Spectral', 'Spectral_r', 'Wistia', 'Wistia_r', 'YlGn', 'YlGnBu', 'YlGnBu_r', 'YlGn_r', 'YlOrBr', 'YlOrBr_r', 'YlOrRd', 'YlOrRd_r', 'afmhot', 'afmhot_r', 'autumn', 'autumn_r', 'binary', 'binary_r', 'bone', 'bone_r', 'brg', 'brg_r', 'bwr', 'bwr_r', 'cividis', 'cividis_r', 'cool', 'cool_r', 'coolwarm', 'coolwarm_r', 'copper', 'copper_r', 'cubehelix', 'cubehelix_r', 'flag', 'flag_r', 'gist_earth', 'gist_earth_r', 'gist_gray', 'gist_gray_r', 'gist_heat', 'gist_heat_r', 'gist_ncar', 'gist_ncar_r', 'gist_rainbow', 'gist_rainbow_r', 'gist_stern', 'gist_stern_r', 'gist_yarg', 'gist_yarg_r', 'gnuplot', 'gnuplot2', 'gnuplot2_r', 'gnuplot_r', 'gray', 'gray_r', 'hot', 'hot_r', 'hsv', 'hsv_r', 'inferno', 'inferno_r', 'jet', 'jet_r', 'magma', 'magma_r', 'nipy_spectral', 'nipy_spectral_r', 'ocean', 'ocean_r', 'pink', 'pink_r', 'plasma', 'plasma_r', 'prism', 'prism_r', 'rainbow', 'rainbow_r', 'seismic', 'seismic_r', 'spring', 'spring_r', 'summer', 'summer_r', 'tab10', 'tab10_r', 'tab20', 'tab20_r', 'tab20b', 'tab20b_r', 'tab20c', 'tab20c_r', 'terrain', 'terrain_r', 'turbo', 'turbo_r', 'twilight', 'twilight_r', 'twilight_shifted', 'twilight_shifted_r', 'viridis', 'viridis_r', 'winter', 'winter_r']\n",
    "\n",
    "colors_1 = ['turbo', 'turbo_r', 'twilight', 'twilight_r', 'twilight_shifted', 'twilight_shifted_r', 'viridis', 'viridis_r', 'winter', 'winter_r']\n",
    "\n",
    "d3_colors = ['turbo','viridis','inferno','magma', 'plasma','cividis',\"flag\"]\n",
    "\n",
    "both = [\"rainbow\",\"RdYlGn\",\"Spectral\",\"summer\",\"terrain\",\"turbo\",\"viridis\",\"winter\",\"YlGnBu_r\"]\n",
    "\n",
    "current = ['magma']\n",
    "\n",
    "trial = ['twilight_shifted', 'twilight']\n",
    "colormap = 'inferno' #default colormap\n",
    "\n"
   ]
  },
  {
   "cell_type": "markdown",
   "id": "c2f4492a",
   "metadata": {},
   "source": [
    "This article is based on [this blogpost](https://www.r-graph-gallery.com/283-the-hourly-heatmap.html) in the [R Graph Gallery](https://www.r-graph-gallery.com/), contributed by [John MacKintosh](http://johnmackintosh.com/).\n",
    "\n",
    "This guide uses one of the datasets from the [Interpol.T](https://CRAN.R-project.org/package=Interpol.T) [R](https://www.r-graph-gallery.com/) package. The data loaded here is the one named `h_d_t` in the package and contains hourly temperature for Trentino, Italy, from 2004 to 2005.  It contains the following columns:\n",
    "\n",
    "* `stationid` The id of the station\n",
    "* `date` Date in yyyy/mm/dd format\n",
    "* `hour` The hour that is commencing (integer 0,...23), \n",
    "* `temp` The temperature reported in that hour\n",
    "* `flag` A quality flag that is actually unused. \n",
    "\n",
    "In addition, the data has been filtered to keep only observations for the station `\"T0001\"`."
   ]
  },
  {
   "cell_type": "code",
   "execution_count": 4,
   "id": "6dd281fd",
   "metadata": {},
   "outputs": [
    {
     "data": {
      "text/html": [
       "<div>\n",
       "<style scoped>\n",
       "    .dataframe tbody tr th:only-of-type {\n",
       "        vertical-align: middle;\n",
       "    }\n",
       "\n",
       "    .dataframe tbody tr th {\n",
       "        vertical-align: top;\n",
       "    }\n",
       "\n",
       "    .dataframe thead th {\n",
       "        text-align: right;\n",
       "    }\n",
       "</style>\n",
       "<table border=\"1\" class=\"dataframe\">\n",
       "  <thead>\n",
       "    <tr style=\"text-align: right;\">\n",
       "      <th></th>\n",
       "      <th>stationid</th>\n",
       "      <th>date</th>\n",
       "      <th>hour</th>\n",
       "      <th>temp</th>\n",
       "      <th>flag</th>\n",
       "    </tr>\n",
       "  </thead>\n",
       "  <tbody>\n",
       "    <tr>\n",
       "      <th>0</th>\n",
       "      <td>T0001</td>\n",
       "      <td>2004/01/01</td>\n",
       "      <td>0</td>\n",
       "      <td>-1.7</td>\n",
       "      <td>1</td>\n",
       "    </tr>\n",
       "    <tr>\n",
       "      <th>1</th>\n",
       "      <td>T0001</td>\n",
       "      <td>2004/01/01</td>\n",
       "      <td>1</td>\n",
       "      <td>-1.8</td>\n",
       "      <td>1</td>\n",
       "    </tr>\n",
       "    <tr>\n",
       "      <th>2</th>\n",
       "      <td>T0001</td>\n",
       "      <td>2004/01/01</td>\n",
       "      <td>2</td>\n",
       "      <td>-1.8</td>\n",
       "      <td>1</td>\n",
       "    </tr>\n",
       "    <tr>\n",
       "      <th>3</th>\n",
       "      <td>T0001</td>\n",
       "      <td>2004/01/01</td>\n",
       "      <td>3</td>\n",
       "      <td>-2.2</td>\n",
       "      <td>1</td>\n",
       "    </tr>\n",
       "    <tr>\n",
       "      <th>4</th>\n",
       "      <td>T0001</td>\n",
       "      <td>2004/01/01</td>\n",
       "      <td>4</td>\n",
       "      <td>-3.2</td>\n",
       "      <td>1</td>\n",
       "    </tr>\n",
       "    <tr>\n",
       "      <th>...</th>\n",
       "      <td>...</td>\n",
       "      <td>...</td>\n",
       "      <td>...</td>\n",
       "      <td>...</td>\n",
       "      <td>...</td>\n",
       "    </tr>\n",
       "    <tr>\n",
       "      <th>17539</th>\n",
       "      <td>T0001</td>\n",
       "      <td>2005/12/31</td>\n",
       "      <td>19</td>\n",
       "      <td>-3.4</td>\n",
       "      <td>1</td>\n",
       "    </tr>\n",
       "    <tr>\n",
       "      <th>17540</th>\n",
       "      <td>T0001</td>\n",
       "      <td>2005/12/31</td>\n",
       "      <td>20</td>\n",
       "      <td>-3.3</td>\n",
       "      <td>1</td>\n",
       "    </tr>\n",
       "    <tr>\n",
       "      <th>17541</th>\n",
       "      <td>T0001</td>\n",
       "      <td>2005/12/31</td>\n",
       "      <td>21</td>\n",
       "      <td>-3.3</td>\n",
       "      <td>1</td>\n",
       "    </tr>\n",
       "    <tr>\n",
       "      <th>17542</th>\n",
       "      <td>T0001</td>\n",
       "      <td>2005/12/31</td>\n",
       "      <td>22</td>\n",
       "      <td>-3.3</td>\n",
       "      <td>1</td>\n",
       "    </tr>\n",
       "    <tr>\n",
       "      <th>17543</th>\n",
       "      <td>T0001</td>\n",
       "      <td>2005/12/31</td>\n",
       "      <td>23</td>\n",
       "      <td>-3.3</td>\n",
       "      <td>1</td>\n",
       "    </tr>\n",
       "  </tbody>\n",
       "</table>\n",
       "<p>17544 rows × 5 columns</p>\n",
       "</div>"
      ],
      "text/plain": [
       "      stationid        date  hour  temp  flag\n",
       "0         T0001  2004/01/01     0  -1.7     1\n",
       "1         T0001  2004/01/01     1  -1.8     1\n",
       "2         T0001  2004/01/01     2  -1.8     1\n",
       "3         T0001  2004/01/01     3  -2.2     1\n",
       "4         T0001  2004/01/01     4  -3.2     1\n",
       "...         ...         ...   ...   ...   ...\n",
       "17539     T0001  2005/12/31    19  -3.4     1\n",
       "17540     T0001  2005/12/31    20  -3.3     1\n",
       "17541     T0001  2005/12/31    21  -3.3     1\n",
       "17542     T0001  2005/12/31    22  -3.3     1\n",
       "17543     T0001  2005/12/31    23  -3.3     1\n",
       "\n",
       "[17544 rows x 5 columns]"
      ]
     },
     "execution_count": 4,
     "metadata": {},
     "output_type": "execute_result"
    }
   ],
   "source": [
    "data = pd.read_csv(\"https://raw.githubusercontent.com/holtzy/The-Python-Graph-Gallery/master/static/data/trentino_temperature.csv\")\n",
    "data"
   ]
  },
  {
   "cell_type": "markdown",
   "id": "e3824e34",
   "metadata": {},
   "source": [
    "Let's use `pd.to_datetime()` to make sure `data[\"date\"]` is of a datetime type."
   ]
  },
  {
   "cell_type": "code",
   "execution_count": 5,
   "id": "2003df58",
   "metadata": {},
   "outputs": [],
   "source": [
    "data[\"date\"] = pd.to_datetime(data[\"date\"])"
   ]
  },
  {
   "cell_type": "markdown",
   "id": "50dd0f0a",
   "metadata": {},
   "source": [
    "## Basic heatmap"
   ]
  },
  {
   "cell_type": "markdown",
   "id": "8d6c45ca",
   "metadata": {},
   "source": [
    "A [heatmap](https://www.data-to-viz.com/graph/heatmap.html) is a graphical representation of numerical data in a matrix layout where individual values are cells in the matrix and are represented as colors. \n",
    "\n",
    "In this case, the rows represent the 24 **hours** of the day, and the columns represent the **days** in a month. The **temperature** is mapped to colors. This way, it's possible to see which days were cooler/hotter by comparing columns, and see the evolution of temperature of a given day by seeing the progression of colors within a certain column.\n",
    "\n",
    "Let's create a heatmap for the January of 2004."
   ]
  },
  {
   "cell_type": "code",
   "execution_count": 6,
   "id": "4d3909f2",
   "metadata": {},
   "outputs": [],
   "source": [
    "# Subset data\n",
    "subset = data[(data[\"date\"].dt.year == 2004) & (data[\"date\"].dt.month == 1)]\n",
    "\n",
    "# Extract hour, day, and temperature\n",
    "hour = subset[\"hour\"]\n",
    "day = subset[\"date\"].dt.day\n",
    "temp = subset[\"temp\"]\n",
    "\n",
    "# Re-arrange temperature values\n",
    "temp = temp.values.reshape(24, len(day.unique()), order=\"F\")\n",
    "\n",
    "# Compute x and y grids, passed to `ax.pcolormesh()`.\n",
    "\n",
    "# The first + 1 increases the length\n",
    "# The outer + 1 ensures days start at 1, and not at 0.\n",
    "xgrid = np.arange(day.max() + 1) + 1\n",
    "\n",
    "# Hours start at 0, length 2\n",
    "ygrid = np.arange(25)"
   ]
  },
  {
   "cell_type": "markdown",
   "id": "8baf20ae",
   "metadata": {},
   "source": [
    "Note both `xgrid` and `ygrid` have one extra value, as required by `ax.pcolormesh()`. If this is not added, the plot is just not going to work."
   ]
  },
  {
   "cell_type": "code",
   "execution_count": 7,
   "id": "9c6fae06",
   "metadata": {},
   "outputs": [
    {
     "data": {
      "image/png": "[encoded data removed]",
      "text/plain": [
       "<Figure size 640x480 with 1 Axes>"
      ]
     },
     "metadata": {},
     "output_type": "display_data"
    }
   ],
   "source": [
    "fig, ax = plt.subplots()\n",
    "ax.pcolormesh(xgrid, ygrid, temp)\n",
    "ax.set_frame_on(False) # remove all spines"
   ]
  },
  {
   "cell_type": "markdown",
   "id": "0af30e26",
   "metadata": {},
   "source": [
    "The white cell represents a **missing value**. There are 5 missings in this data."
   ]
  },
  {
   "cell_type": "markdown",
   "id": "a220ab32",
   "metadata": {},
   "source": [
    "## A layout of heatmaps\n",
    "\n",
    "The next step is to extend the code above to multiple heatmaps, one for each month in the two years from 2004 and 2005. The following chunk shows how to compute the minimum and maximum temperature. It is **very important** to use these two values as minimum and maximum for all the heatmaps so the same colormap is applied to all the panels and they can be compared. Otherwise, Matplotlib creates a different colormap for each panel and the result would be misleading."
   ]
  },
  {
   "cell_type": "code",
   "execution_count": 8,
   "id": "5d6190ed",
   "metadata": {},
   "outputs": [],
   "source": [
    "MIN_TEMP = data[\"temp\"].min()\n",
    "MAX_TEMP = data[\"temp\"].max()"
   ]
  },
  {
   "cell_type": "markdown",
   "id": "08fb539c",
   "metadata": {},
   "source": [
    "This function summarizes the process above and also customizes the result a little. This tweaks are described with comments within the code."
   ]
  },
  {
   "cell_type": "code",
   "execution_count": 9,
   "id": "ed3ce756",
   "metadata": {},
   "outputs": [],
   "source": [
    "def single_plot(data, month, year, ax):\n",
    "    data = data[(data[\"date\"].dt.year == year) & (data[\"date\"].dt.month == month)]\n",
    "\n",
    "    hour = data[\"hour\"]\n",
    "    day = data[\"date\"].dt.day\n",
    "    temp = data[\"temp\"]\n",
    "    temp = temp.values.reshape(24, len(day.unique()), order=\"F\")\n",
    "    \n",
    "    xgrid = np.arange(day.max() + 1) + 1\n",
    "    ygrid = np.arange(25)\n",
    "    \n",
    "    ax.pcolormesh(xgrid, ygrid, temp, cmap=colormap, vmin=MIN_TEMP, vmax=MAX_TEMP)\n",
    "    # Invert the vertical axis\n",
    "    ax.set_ylim(24, 0)\n",
    "    # Set tick positions for both axes\n",
    "    ax.yaxis.set_ticks([i for i in range(24)])\n",
    "    ax.xaxis.set_ticks([10, 20, 30])\n",
    "    # Remove ticks by setting their length to 0\n",
    "    ax.yaxis.set_tick_params(length=0)\n",
    "    ax.xaxis.set_tick_params(length=0)\n",
    "    \n",
    "    # Remove all spines\n",
    "    ax.set_frame_on(False)"
   ]
  },
  {
   "cell_type": "markdown",
   "id": "01b0e75c",
   "metadata": {},
   "source": [
    "And finally, let's create a figure with 2 rows and 12 columns and loop through each month:"
   ]
  },
  {
   "cell_type": "code",
   "execution_count": 49,
   "id": "bd4613a0-b940-4c9d-8cd8-36d4ade153ee",
   "metadata": {},
   "outputs": [],
   "source": [
    "theme = dark\n",
    "colors = trial\n",
    "export = True\n",
    "colormap = 'magma'"
   ]
  },
  {
   "cell_type": "markdown",
   "id": "edc515eb",
   "metadata": {},
   "source": [
    "It's good to have a legend with a colorbar that describes the values represented by the colors. Let's add one!"
   ]
  },
  {
   "cell_type": "code",
   "execution_count": 50,
   "id": "04af6ebb",
   "metadata": {},
   "outputs": [],
   "source": [
    "def render(theme, colormap, export):\n",
    "    fig, axes = plt.subplots(2, 12, figsize=(14, 8), sharey=True)\n",
    "\n",
    "    for i, year in enumerate([2004, 2005]):\n",
    "        for j, month in enumerate(range(1, 13)):\n",
    "            single_plot(data, month, year, axes[i, j])\n",
    "\n",
    "    fig.subplots_adjust(left=0.05, top=0.9, hspace=0.08, wspace=0.04)\n",
    "\n",
    "    # First, let's make some room for the legend in the bottom.\n",
    "    fig.subplots_adjust(bottom=0.15)\n",
    "    fig.set_facecolor(theme['back'])\n",
    "    fig.suptitle(\"color profile:\"+colormap, fontsize=20, y=0.95, color= theme['contenDefault'])\n",
    "    # Create a new axis to contain the color bar\n",
    "    # Values are:\n",
    "    # (x coordinate of left border, \n",
    "    #  y coordinate for bottom border,\n",
    "    #  width,\n",
    "    #  height)\n",
    "    cbar_ax = fig.add_axes([0.3, 0.05, 0.4, 0.025])\n",
    "\n",
    "    # Create a normalizer that goes from minimum to maximum temperature\n",
    "    norm = mc.Normalize(MIN_TEMP, MAX_TEMP)\n",
    "\n",
    "    # Create the colorbar and set it to horizontal\n",
    "    cb = fig.colorbar(\n",
    "        ScalarMappable(norm=norm, cmap=colormap), \n",
    "        cax=cbar_ax, # Pass the new axis\n",
    "        # orientation = \"vertical\"\n",
    "        orientation = \"horizontal\"\n",
    "    )\n",
    "    # Remove tick marks\n",
    "    cb.ax.xaxis.set_tick_params(size=0)\n",
    "\n",
    "    # Set legend label\n",
    "    cb.set_label(\"Traces per second\", size=12, color= theme['contenDefault'])\n",
    "    if export:\n",
    "        # fig.savefig(\"plots/{}/{}-profile-{}.svg\".format(theme[\"name\"],theme[\"name\"],colormap), dpi=300)\n",
    "        fig.savefig(\"plots/both/{}-{}.png\".format(theme[\"name\"],colormap), dpi=300)\n",
    "    # fig.close()\n",
    "    plt.close()\n",
    "    # fig"
   ]
  },
  {
   "cell_type": "code",
   "execution_count": 51,
   "id": "d523b17e-30d5-4fc5-b0f7-b3caf06732f2",
   "metadata": {},
   "outputs": [],
   "source": [
    "# render(theme, colormap, True)\n",
    "for colormap in colors:\n",
    "    render(theme, colormap, True)"
   ]
  },
  {
   "cell_type": "markdown",
   "id": "14cf09bb",
   "metadata": {},
   "source": [
    "Let's finish by adding some labels and an appropriate title"
   ]
  },
  {
   "cell_type": "code",
   "execution_count": 9,
   "id": "e2c1f5fd",
   "metadata": {},
   "outputs": [
    {
     "data": {
      "image/png": "[encoded data removed]",
      "text/plain": [
       "<Figure size 640x480 with 1 Axes>"
      ]
     },
     "execution_count": 9,
     "metadata": {},
     "output_type": "execute_result"
    }
   ],
   "source": [
    "# Set common labels for x and y axes\n",
    "fig.text(0.5, 0.1, \"Day\", ha=\"center\", va=\"center\", fontsize=14)\n",
    "fig.text(0.02, 0.5, 'Hour Commencing', ha=\"center\", va=\"center\", rotation=\"vertical\", fontsize=14)\n",
    "\n",
    "fig.suptitle(\"Hourly temperatures - Station T0001\", fontsize=20, y=0.95)\n",
    "fig"
   ]
  },
  {
   "cell_type": "code",
   "execution_count": null,
   "id": "13e63859",
   "metadata": {},
   "outputs": [],
   "source": [
    "# If you want to save this plot, run:\n",
    "# fig.set_facecolor(\"white\")\n",
    "# fig.savefig(\"plot.png\", dpi=300)"
   ]
  }
 ],
 "metadata": {
  "chartType": "heatmap",
  "description": "This post shows how to create a heatmap with Python and <a href='https://www.python-graph-gallery.com/matplotlib/'>Matplotlib</a> for timeseries. It represents the evolution of a temperature along days and hours, using multiple subplots. This guide also contains step by step instructions to show how to customize the layout and how to add a legend with a colorbar.",
  "family": "correlation",
  "interpreter": {
   "hash": "dca0ade3e726a953b501b15e8e990130d2b7799f14cfd9f4271676035ebe5511"
  },
  "kernelspec": {
   "display_name": "Python 3 (ipykernel)",
   "language": "python",
   "name": "python3"
  },
  "keywords": "python, chart, plot, matplotlib, heatmap, subplots, correlation",
  "language_info": {
   "codemirror_mode": {
    "name": "ipython",
    "version": 3
   },
   "file_extension": ".py",
   "mimetype": "text/x-python",
   "name": "python",
   "nbconvert_exporter": "python",
   "pygments_lexer": "ipython3",
   "version": "3.9.13"
  },
  "seoDescription": "Using a heatmap for timeseries with Python and Matplotlib. Step by step instructions are provided, multiple subplots are used with a color bar for the legend",
  "slug": "heatmap-for-timeseries-matplotlib",
  "title": "Heatmap for timeseries with Python and Matplotlib"
 },
 "nbformat": 4,
 "nbformat_minor": 5
}
